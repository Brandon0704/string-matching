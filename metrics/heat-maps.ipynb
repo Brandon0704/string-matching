{
  "cells": [
    {
      "cell_type": "code",
      "execution_count": 52,
      "metadata": {
        "colab": {
          "base_uri": "https://localhost:8080/"
        },
        "id": "CZty6o2DiKBi",
        "outputId": "d35a91b7-fca3-4847-953f-4d50fb36af3a"
      },
      "outputs": [
        {
          "output_type": "stream",
          "name": "stdout",
          "text": [
            "[34, 44, 56, 74]\n"
          ]
        }
      ],
      "source": [
        "\n",
        "class KMP(object):\n",
        "\tdef __init__(self, pattern, text):\n",
        "\t\tself.pat = pattern; self.txt = text\n",
        "\t\tself.M = len(pattern); self.N = len(text)\n",
        "\t\tself.matches = list()\n",
        "\n",
        "\tdef KMPSearch(self): \n",
        "\t\tj = 0 # index counter for pattern \n",
        "\t\tlps = self.computeLPSArray() # build the longest prefix table \n",
        "\t\ti = 0 # index counter for text\n",
        "\t\twhile i < self.N: # iterating throught the text\n",
        "\t\t\tif self.pat[j] == self.txt[i]: # when there's a character match\n",
        "\t\t\t\ti += 1\n",
        "\t\t\t\tj += 1\n",
        "\n",
        "\t\t\tif j == self.M: \n",
        "\t\t\t\t# print(\"Found pattern at index \" + str(i-j))\n",
        "\t\t\t\tself.matches.append((i - j))\n",
        "\t\t\t\tj = lps[j - 1] \n",
        "\n",
        "\t\t\telif i < self.N and self.pat[j] != self.txt[i]: # mismatch after j matches\n",
        "\t\t\t\t# Do not match lps[0..lps[j-1]] characters, \n",
        "\t\t\t\t# they will match anyway \n",
        "\t\t\t\tif j != 0: \n",
        "\t\t\t\t\tj = lps[j-1] \n",
        "\t\t\t\telse: \n",
        "\t\t\t\t\ti += 1\n",
        "\t\treturn self.matches\n",
        "\n",
        "\tdef computeLPSArray(self):\n",
        "        \n",
        "\t\tlps = [0] * self.M\n",
        "\t\tl = 0 # length of the previous longest prefix suffix \n",
        "\t\tlps[0] # lps[0] is always 0 \n",
        "\t\ti = 1\n",
        "\n",
        "\t\t# the loop calculates lps[i] for i = 1 to M-1 \n",
        "\t\twhile i < self.M: \n",
        "\t\t\tif self.pat[i]== self.pat[l]: \n",
        "\t\t\t\tl += 1\n",
        "\t\t\t\tlps[i] = l\n",
        "\t\t\t\ti += 1\n",
        "\t\t\telse: \n",
        "\t\t\t\t# This is tricky. Consider the example. \n",
        "\t\t\t\t# AAACAAAA and i = 7. The idea is similar \n",
        "\t\t\t\t# to search step. \n",
        "\t\t\t\tif l != 0: \n",
        "\t\t\t\t\tl = lps[l - 1] \n",
        "\t\t\t\telse: \n",
        "\t\t\t\t\tlps[i] = 0\n",
        "\t\t\t\t\ti += 1\n",
        "\t\treturn lps\n",
        "\n",
        "\n",
        "def main():\n",
        "    txt = \"In the year 1878 I took my degree of Doctor of Medicine of the University of London, and proceeded to Netley\"; pat = \"of\"\n",
        "    kmp = KMP(pat, txt)\n",
        "    print(kmp.KMPSearch())\n",
        "    \n",
        "main()"
      ]
    },
    {
      "cell_type": "code",
      "execution_count": 53,
      "metadata": {
        "colab": {
          "base_uri": "https://localhost:8080/"
        },
        "id": "SNKxpGakiKBk",
        "outputId": "4859e7bd-2a5e-4d86-d3f5-4e662e373c4f"
      },
      "outputs": [
        {
          "output_type": "stream",
          "name": "stdout",
          "text": [
            "[34, 44, 56, 74]\n"
          ]
        }
      ],
      "source": [
        "\n",
        "\n",
        "class BoyerMoore(object):\n",
        "\n",
        "\n",
        "\tdef __init__(self):\n",
        "\t\tself.NO_OF_CHARS = 256\n",
        "\t\tself.matches = list()\n",
        "\n",
        "\n",
        "\tdef badCharHeuristic(self, string, size): \n",
        "\t\t''' \n",
        "\t\tThe preprocessing function for \n",
        "\t\tBoyer Moore's bad character heuristic \n",
        "\t\t'''\n",
        "\n",
        "\t\t# Initialize all occurence as -1 \n",
        "\t\tbadChar = [-1] * self.NO_OF_CHARS \n",
        "\n",
        "\t\t# Fill the actual value of last occurence \n",
        "\t\tfor i in range(size): \n",
        "\t\t\tbadChar[ord(string[i])] = i; \n",
        "\n",
        "\t\t# retun initialized list \n",
        "\t\treturn badChar \n",
        "\n",
        "\tdef search(self, txt, pat):\n",
        "\t\tm = len(pat) \n",
        "\t\tn = len(txt) \n",
        "\n",
        "\t\t# create the bad character list by calling \n",
        "\t\t# the preprocessing function badCharHeuristic() \n",
        "\t\t# for given pattern \n",
        "\t\tbadChar = self.badCharHeuristic(pat, m) \n",
        "\n",
        "\t\t# s is shift of the pattern with respect to text \n",
        "\t\ts = 0\n",
        "\t\twhile(s <= n - m): \n",
        "\t\t\tj = m - 1\n",
        "\t\t\twhile j >= 0 and pat[j] == txt[s + j]: \n",
        "\t\t\t\tj -= 1\n",
        "\t\t\t# If the pattern is present at current shift, \n",
        "\t\t\t# then index j will become -1 after the above loop \n",
        "\t\t\tif j < 0: \n",
        "\t\t\t\tself.matches.append(s)\n",
        "\t\t\t\ts += (m - badChar[ord(txt[s + m])] if s + m < n else 1) \n",
        "\t\t\telse: \n",
        "\t\t\t\ts += max(1, j - badChar[ord(txt[s+j])]) \n",
        "\t\treturn self.matches\n",
        "\n",
        "\n",
        "# Driver program to test above funtion \n",
        "def main(): \n",
        "\ttxt = \"In the year 1878 I took my degree of Doctor of Medicine of the University of London, and proceeded to Netley\"\n",
        "\tpat = \"of\"\n",
        "\tbm = BoyerMoore()\n",
        "\tprint(bm.search(txt, pat))\n",
        "\n",
        "if __name__ == '__main__': \n",
        "\tmain()"
      ]
    },
    {
      "cell_type": "code",
      "source": [
        "def main(text, pattern):\n",
        "    len_of_pattern = len(pattern)\n",
        "    len_of_text = len(text)\n",
        "    occurrences = []\n",
        "    for i in range(0, len_of_text - len_of_pattern + 1):\n",
        "        for j in range(0, len_of_pattern):\n",
        "            if text[i + j] != pattern[j]:\n",
        "                break\n",
        "\n",
        "\n",
        "            if j == len_of_pattern - 1:\n",
        "                occurrences.append(i)\n",
        "\n",
        "\n",
        "    return occurrences\n",
        "\n",
        "\n",
        "text = \"In the year 1878 I took my degree of Doctor of Medicine of the University of London, and proceeded to Netley\"\n",
        "pattern = \"of\"\n",
        "\n",
        "result = main(text, pattern)\n",
        "\n",
        "\n",
        "print(main(text, pattern))\n"
      ],
      "metadata": {
        "colab": {
          "base_uri": "https://localhost:8080/"
        },
        "id": "Yo1m9bXTjmsD",
        "outputId": "324ba548-a871-4d93-d942-c6691bfb7189"
      },
      "execution_count": 56,
      "outputs": [
        {
          "output_type": "stream",
          "name": "stdout",
          "text": [
            "[34, 44, 56, 74]\n"
          ]
        }
      ]
    }
  ],
  "metadata": {
    "kernelspec": {
      "display_name": "Python 3",
      "language": "python",
      "name": "python3"
    },
    "language_info": {
      "codemirror_mode": {
        "name": "ipython",
        "version": 3
      },
      "file_extension": ".py",
      "mimetype": "text/x-python",
      "name": "python",
      "nbconvert_exporter": "python",
      "pygments_lexer": "ipython3",
      "version": "3.6.5"
    },
    "colab": {
      "name": "heat-maps.ipynb",
      "provenance": []
    }
  },
  "nbformat": 4,
  "nbformat_minor": 0
}