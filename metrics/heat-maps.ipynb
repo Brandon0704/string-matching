{
 "cells": [
  {
   "cell_type": "code",
   "execution_count": 6,
   "metadata": {},
   "outputs": [],
   "source": [
    "%load_ext heat"
   ]
  },
  {
   "cell_type": "code",
   "execution_count": 7,
   "metadata": {},
   "outputs": [],
   "source": [
    "%%heat -o file.png\n",
    "\n",
    "def search(text, word, text_len, word_len): \n",
    "        indices = list()\n",
    "        for i in range(text_len - word_len + 1): \n",
    "            j = 0\n",
    "            for j in range(word_len): \n",
    "                if (text[i + j] != word[j]): \n",
    "                    break\n",
    "            if (j == word_len - 1):  \n",
    "                print(\"Pattern found at index \", i); indices.append(i)\n",
    "        return indices\n",
    "    \n",
    "search(\"cagcggggaagggtctttaccgcttaggcctctaa\", \"gact\", 35, 4)"
   ]
  },
  {
   "cell_type": "code",
   "execution_count": 9,
   "metadata": {},
   "outputs": [
    {
     "name": "stdout",
     "output_type": "stream",
     "text": [
      "[15]\n"
     ]
    }
   ],
   "source": [
    "%%heat -o kmp-heat.png\n",
    "class KMP(object):\n",
    "\tdef __init__(self, pattern, text):\n",
    "\t\tself.pat = pattern; self.txt = text\n",
    "\t\tself.M = len(pattern); self.N = len(text)\n",
    "\t\tself.matches = list()\n",
    "\n",
    "\tdef KMPSearch(self): \n",
    "\t\tj = 0 # index counter for pattern \n",
    "\t\tlps = self.computeLPSArray() # build the longest prefix table \n",
    "\t\ti = 0 # index counter for text\n",
    "\t\twhile i < self.N: # iterating throught the text\n",
    "\t\t\tif self.pat[j] == self.txt[i]: # when there's a character match\n",
    "\t\t\t\ti += 1\n",
    "\t\t\t\tj += 1\n",
    "\n",
    "\t\t\tif j == self.M: \n",
    "\t\t\t\t# print(\"Found pattern at index \" + str(i-j))\n",
    "\t\t\t\tself.matches.append((i - j))\n",
    "\t\t\t\tj = lps[j - 1] \n",
    "\n",
    "\t\t\telif i < self.N and self.pat[j] != self.txt[i]: # mismatch after j matches\n",
    "\t\t\t\t# Do not match lps[0..lps[j-1]] characters, \n",
    "\t\t\t\t# they will match anyway \n",
    "\t\t\t\tif j != 0: \n",
    "\t\t\t\t\tj = lps[j-1] \n",
    "\t\t\t\telse: \n",
    "\t\t\t\t\ti += 1\n",
    "\t\treturn self.matches\n",
    "\n",
    "\tdef computeLPSArray(self):\n",
    "        \n",
    "\t\tlps = [0] * self.M\n",
    "\t\tl = 0 # length of the previous longest prefix suffix \n",
    "\t\tlps[0] # lps[0] is always 0 \n",
    "\t\ti = 1\n",
    "\n",
    "\t\t# the loop calculates lps[i] for i = 1 to M-1 \n",
    "\t\twhile i < self.M: \n",
    "\t\t\tif self.pat[i]== self.pat[l]: \n",
    "\t\t\t\tl += 1\n",
    "\t\t\t\tlps[i] = l\n",
    "\t\t\t\ti += 1\n",
    "\t\t\telse: \n",
    "\t\t\t\t# This is tricky. Consider the example. \n",
    "\t\t\t\t# AAACAAAA and i = 7. The idea is similar \n",
    "\t\t\t\t# to search step. \n",
    "\t\t\t\tif l != 0: \n",
    "\t\t\t\t\tl = lps[l - 1] \n",
    "\t\t\t\telse: \n",
    "\t\t\t\t\tlps[i] = 0\n",
    "\t\t\t\t\ti += 1\n",
    "\t\treturn lps\n",
    "\n",
    "\n",
    "def main():\n",
    "    txt = \"cagcggggaagggtctttaccgcttaggcctctaa\"; pat = \"tttacc\"\n",
    "    kmp = KMP(pat, txt)\n",
    "    print(kmp.KMPSearch())\n",
    "    \n",
    "main()"
   ]
  },
  {
   "cell_type": "code",
   "execution_count": null,
   "metadata": {},
   "outputs": [],
   "source": []
  }
 ],
 "metadata": {
  "kernelspec": {
   "display_name": "Python 3",
   "language": "python",
   "name": "python3"
  },
  "language_info": {
   "codemirror_mode": {
    "name": "ipython",
    "version": 3
   },
   "file_extension": ".py",
   "mimetype": "text/x-python",
   "name": "python",
   "nbconvert_exporter": "python",
   "pygments_lexer": "ipython3",
   "version": "3.6.5"
  }
 },
 "nbformat": 4,
 "nbformat_minor": 2
}
